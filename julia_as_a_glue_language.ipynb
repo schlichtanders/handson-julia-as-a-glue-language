{
  "nbformat": 4,
  "nbformat_minor": 0,
  "metadata": {
    "colab": {
      "name": "julia_as_a_glue_language.ipynb",
      "provenance": [],
      "collapsed_sections": [
        "frnKKEzVRq9n",
        "Wdn89jY5uKU_",
        "V1z8Coxh-Wmw",
        "LhneJELxb3I7",
        "rIEkBAgjagL-",
        "0bTJMkbVY54m"
      ]
    },
    "kernelspec": {
      "display_name": "Julia 1.3",
      "language": "julia",
      "name": "julia-1.3"
    },
    "language_info": {
      "file_extension": ".jl",
      "mimetype": "application/julia",
      "name": "julia",
      "version": "1.3"
    }
  },
  "cells": [
    {
      "cell_type": "markdown",
      "execution_count": null,
      "metadata": {
        "colab_type": "text",
        "id": "m0tfH1gibBxJ"
      },
      "outputs": [],
      "source": [
        "# Julia As A Glue Language\n",
        "\n",
        "Welcome to this hands-on tutorial of using Julia as a glue language. For enabling julia in colab, we first need to jump start it from python."
      ]
    },
    {
      "cell_type": "code",
      "execution_count": null,
      "metadata": {
        "colab": {
          "base_uri": "https://localhost:8080/",
          "height": 1000
        },
        "colab_type": "code",
        "id": "PMGwZ7aFJL8Y",
        "outputId": "2f6afacc-2c04-4a1d-a956-342ba3eacb46"
      },
      "outputs": [],
      "source": [
        "# Installation cell\n",
        "%%shell\n",
        "if ! command -v julia 3>&1 > /dev/null\n",
        "then\n",
        "    wget 'https://julialang-s3.julialang.org/bin/linux/x64/1.3/julia-1.3.1-linux-x86_64.tar.gz' \\\n",
        "        -O /tmp/julia.tar.gz\n",
        "    tar -x -f /tmp/julia.tar.gz -C /usr/local --strip-components 1\n",
        "    rm /tmp/julia.tar.gz\n",
        "fi\n",
        "julia -e 'using Pkg; pkg\"add IJulia; precompile;\"'\n",
        "echo 'Done'"
      ]
    },
    {
      "cell_type": "markdown",
      "execution_count": null,
      "metadata": {
        "colab_type": "text",
        "id": "XdMpcQduyaQc"
      },
      "outputs": [],
      "source": [
        "After you run the first cell (the the cell directly above this text), go to Colab's Edit menu and select Notebook settings from the drop down. Select *Julia 1.3* as the runtime and *GPU* as the hadware accelerator. If *Julia 1.3* is already selected, switch back and forth to another runtime type and back.\n",
        "\n",
        "<br/>You should see somthing like this:\n",
        "\n",
        "> ![alt text](https://drive.google.com/uc?id=1AeglaLmWI-zRXPCErofIZ4BH9zvPCwNy)\n",
        "<br/>Click on SAVE\n",
        "<br/>**We are ready to get going**\n",
        "\n",
        "\n",
        "\n"
      ]
    },
    {
      "cell_type": "markdown",
      "execution_count": null,
      "metadata": {
        "colab_type": "text",
        "id": "wFHa2X6Jblmu"
      },
      "outputs": [],
      "source": [
        "Now let's start to setup Julia environment by installing some Julia packages."
      ]
    },
    {
      "cell_type": "code",
      "execution_count": null,
      "metadata": {
        "colab": {
          "base_uri": "https://localhost:8080/",
          "height": 1000
        },
        "colab_type": "code",
        "id": "iIxu4TjlJnBG",
        "outputId": "1a12c87d-9b0e-4221-cad8-e9992b9c5bf0"
      },
      "outputs": [],
      "source": [
        "#Julia 1.3 Environment\n",
        "using Pkg\n",
        "# julia foreign function interfaces\n",
        "pkg\"add PyCall; precompile;\"\n",
        "pkg\"add RCall; precompile;\"\n",
        "pkg\"add PyPlot; precompile;\"\n",
        "# other\n",
        "pkg\"add BenchmarkTools; precompile;\""
      ]
    },
    {
      "cell_type": "markdown",
      "execution_count": null,
      "metadata": {
        "colab_type": "text",
        "id": "F2Ve0bpzbyLW"
      },
      "outputs": [],
      "source": [
        "# Python FFI - PyCall.jl\n",
        "\n",
        "We start this hands-on with interfacing Python. For this we load the `PyCall` julia package like follows"
      ]
    },
    {
      "cell_type": "code",
      "execution_count": null,
      "metadata": {
        "colab": {},
        "colab_type": "code",
        "id": "aMI2QjTuyXs2"
      },
      "outputs": [],
      "source": [
        "using PyCall\n",
        "using BenchmarkTools"
      ]
    },
    {
      "cell_type": "markdown",
      "execution_count": null,
      "metadata": {
        "colab_type": "text",
        "id": "WSDEgRaKmpru"
      },
      "outputs": [],
      "source": [
        "One awesome feature is that you can pass many julia objects directly to python. For example here a julia function into python optimize method."
      ]
    },
    {
      "cell_type": "code",
      "execution_count": null,
      "metadata": {
        "colab": {
          "base_uri": "https://localhost:8080/",
          "height": 34
        },
        "colab_type": "code",
        "id": "PQ61mHHbbW8Q",
        "outputId": "e8ca3b08-a067-41b2-cfd4-2f481cd70f84"
      },
      "outputs": [],
      "source": [
        "so = pyimport(\"scipy.optimize\")\n",
        "so.newton(x -> cos(x) - x, 1)"
      ]
    },
    {
      "cell_type": "markdown",
      "execution_count": null,
      "metadata": {
        "colab_type": "text",
        "id": "gkbvNmcwmq5P"
      },
      "outputs": [],
      "source": [
        "There is actually not much overhead involved, as we can investigate by benchmarking. In Julia we can easily benchmark with help of the macro ``BenchmarkTools.@benchmark``. In python the standard is way more inconvenient - you need to use ``timeit.timeit``."
      ]
    },
    {
      "cell_type": "code",
      "execution_count": null,
      "metadata": {
        "colab": {
          "base_uri": "https://localhost:8080/",
          "height": 34
        },
        "colab_type": "code",
        "id": "kIM0fynLnLQT",
        "outputId": "de5fce62-4479-4318-df52-b1705458a3b7"
      },
      "outputs": [],
      "source": [
        "py\"\"\"timeit(\"time.sleep(1)\", number=3, setup=\"import time;\")\"\"\"  # timeit reports the total runtime"
      ]
    },
    {
      "cell_type": "markdown",
      "execution_count": null,
      "metadata": {
        "colab_type": "text",
        "id": "-806cSAPm5iU"
      },
      "outputs": [],
      "source": [
        "Note that multiline py syntax will always return ``nothing``, you need to use single line syntax with a single command to grab a python variable."
      ]
    },
    {
      "cell_type": "code",
      "execution_count": null,
      "metadata": {
        "colab": {
          "base_uri": "https://localhost:8080/",
          "height": 34
        },
        "colab_type": "code",
        "id": "HGnu0QtAjj7g",
        "outputId": "1cd8c9da-1bc3-4138-c025-93e49e773906"
      },
      "outputs": [],
      "source": [
        "py\"\"\"\n",
        "from timeit import timeit\n",
        "timeresult = timeit(\"so.newton(lambda x: cos(x) - x, 1)\", number=10000, setup=\"from scipy import optimize as so; from math import cos;\")\n",
        "\"\"\"\n",
        "py\"timeresult\" / 10000 * 1e6 # microsecond"
      ]
    },
    {
      "cell_type": "code",
      "execution_count": null,
      "metadata": {
        "colab": {
          "base_uri": "https://localhost:8080/",
          "height": 204
        },
        "colab_type": "code",
        "id": "K4y7QDNuImek",
        "outputId": "7c09fd50-badf-495b-b101-64e83cb4298b"
      },
      "outputs": [],
      "source": [
        "using BenchmarkTools\n",
        "@benchmark so.newton(x -> cos(x) - x, 1)"
      ]
    },
    {
      "cell_type": "markdown",
      "execution_count": null,
      "metadata": {
        "colab_type": "text",
        "id": "EWiZO9qLng14"
      },
      "outputs": [],
      "source": [
        "You see, it is just a factor of 1.4 slower"
      ]
    },
    {
      "cell_type": "code",
      "execution_count": null,
      "metadata": {
        "colab": {
          "base_uri": "https://localhost:8080/",
          "height": 34
        },
        "colab_type": "code",
        "id": "QDGPZAv7nf5w",
        "outputId": "0277c8c4-0947-4662-9723-12acafa0a0f5"
      },
      "outputs": [],
      "source": [
        "269.514 / 190.270"
      ]
    },
    {
      "cell_type": "markdown",
      "execution_count": null,
      "metadata": {
        "colab_type": "text",
        "id": "5LyHxvDtnsN_"
      },
      "outputs": [],
      "source": [
        "You can also interpolate julia expressions into python code"
      ]
    },
    {
      "cell_type": "code",
      "execution_count": null,
      "metadata": {
        "colab": {
          "base_uri": "https://localhost:8080/",
          "height": 34
        },
        "colab_type": "code",
        "id": "lVt3J4OWn4Sf",
        "outputId": "db7e4a22-305d-4c73-9ffb-b10fae22b40e"
      },
      "outputs": [],
      "source": [
        "# we need to load packages only once\n",
        "py\"\"\"\n",
        "from scipy import optimize as so\n",
        "from math import cos\n",
        "\"\"\"\n",
        "# plain julia function with python internals\n",
        "mynewton(f) = py\"so.newton($f, 1)\""
      ]
    },
    {
      "cell_type": "code",
      "execution_count": null,
      "metadata": {
        "colab": {
          "base_uri": "https://localhost:8080/",
          "height": 34
        },
        "colab_type": "code",
        "id": "AHUJBnpWoJES",
        "outputId": "3d63e17d-2990-46e4-b13e-d1c255fd4f03"
      },
      "outputs": [],
      "source": [
        "mynewton(x -> cos(x) - x)"
      ]
    },
    {
      "cell_type": "markdown",
      "execution_count": null,
      "metadata": {
        "colab_type": "text",
        "id": "NpVGjYouq_wE"
      },
      "outputs": [],
      "source": [
        "Numpy is completely supported. Julia arrays are passed directly without copying to python. Numpy arrays are copied by default, however this can be changed, for details see https://github.com/JuliaPy/PyCall.jl#arrays-and-pyarray"
      ]
    },
    {
      "cell_type": "code",
      "execution_count": null,
      "metadata": {
        "colab": {
          "base_uri": "https://localhost:8080/",
          "height": 85
        },
        "colab_type": "code",
        "id": "qoL20u_FrGre",
        "outputId": "5514a469-5f04-47d8-f476-c50cb8043b49"
      },
      "outputs": [],
      "source": [
        "py\"\"\"\n",
        "import numpy as np\n",
        "\"\"\"\n",
        "py\"np.sin(np.pi * $([1,4,6]))\""
      ]
    },
    {
      "cell_type": "markdown",
      "execution_count": null,
      "metadata": {
        "colab_type": "text",
        "id": "EsTXujSEsGgC"
      },
      "outputs": [],
      "source": [
        "## Matplotlib \n",
        "Matplotlib is integrated to IJulia Kernel, thanks to the ``PyPlot.jl`` wrapper arround matplotlib and PyCall.jl"
      ]
    },
    {
      "cell_type": "code",
      "execution_count": null,
      "metadata": {
        "colab": {
          "base_uri": "https://localhost:8080/",
          "height": 469
        },
        "colab_type": "code",
        "id": "Xo8cnrt6sVER",
        "outputId": "75ea19d7-4d13-4dda-91f1-5d9c0aa638bf"
      },
      "outputs": [],
      "source": [
        "using PyPlot\n",
        "x = range(0; stop=2*pi, length=1000); y = sin.(3 * x + 4 * cos.(2 * x));\n",
        "plot(x, y, color=\"red\", linewidth=2.0, linestyle=\"--\")  # plot function comes from PyPlot\n",
        "title(\"A sinusoidally modulated sinusoid\")  # same here"
      ]
    },
    {
      "cell_type": "markdown",
      "execution_count": null,
      "metadata": {
        "colab_type": "text",
        "id": "zMWI9eqvtEdv"
      },
      "outputs": [],
      "source": [
        "PyPlot.jl really only adds some julia wrappers as well as IJulia JupyterNotebook support for PyCall"
      ]
    },
    {
      "cell_type": "code",
      "execution_count": null,
      "metadata": {
        "colab": {
          "base_uri": "https://localhost:8080/",
          "height": 469
        },
        "colab_type": "code",
        "id": "jCLv0xLksrK3",
        "outputId": "754e81aa-5517-4782-8ff8-3c0043cca472"
      },
      "outputs": [],
      "source": [
        "plt = pyimport(\"matplotlib.pyplot\")\n",
        "plt.plot(x, y, color=\"red\", linewidth=2.0, linestyle=\"--\")\n",
        "plt.title(\"The same sinusoidally modulated sinusoid\")"
      ]
    },
    {
      "cell_type": "code",
      "execution_count": null,
      "metadata": {
        "colab": {
          "base_uri": "https://localhost:8080/",
          "height": 452
        },
        "colab_type": "code",
        "id": "kfIiKaB4tV70",
        "outputId": "9f17f0be-dde9-4054-9d6f-93c6cabe8b65"
      },
      "outputs": [],
      "source": [
        "py\"\"\"\n",
        "import matplotlib.pyplot as plt\n",
        "plt.plot($x, $y, color=\"red\", linewidth=2.0, linestyle=\"--\")\n",
        "plt.title(\"And another title\")\n",
        "\"\"\""
      ]
    },
    {
      "cell_type": "markdown",
      "execution_count": null,
      "metadata": {
        "colab_type": "text",
        "id": "p8NrIfVenmmJ"
      },
      "outputs": [],
      "source": [
        "Finally note that if you want to include python code in your julia module, you need to put it into the ``__init__`` function which executes extra module-initializations the first time the module is actually loaded. Otherwise you may encounter problems with Julia's precompilation.\n",
        "\n",
        "For more information see https://github.com/JuliaPy/PyCall.jl"
      ]
    },
    {
      "cell_type": "markdown",
      "execution_count": null,
      "metadata": {
        "colab_type": "text",
        "id": "4f23HDynoSSI"
      },
      "outputs": [],
      "source": [
        "# Python FFI - it is your turn!\n",
        "\n",
        "Task 1: Try out to pass julia arrays to numpy functions and get results back.\n",
        "\n",
        "A good tutorial is the numpy quickstart in general, especially the linear algebra part\n",
        "https://docs.scipy.org/doc/numpy/user/quickstart.html#linear-algebra\n",
        "\n",
        "The histogram is also nice https://docs.scipy.org/doc/numpy/user/quickstart.html#histograms\n",
        "\n",
        "Try to use julia arrays where possible"
      ]
    },
    {
      "cell_type": "code",
      "execution_count": null,
      "metadata": {
        "colab": {},
        "colab_type": "code",
        "id": "IND9H3jBsB2j"
      },
      "outputs": [],
      "source": [
        ""
      ]
    },
    {
      "cell_type": "markdown",
      "execution_count": null,
      "metadata": {
        "colab_type": "text",
        "id": "kknCQ0qDpx0g"
      },
      "outputs": [],
      "source": [
        "Task2: Try out parts of the scipy tutorial about image processing https://docs.scipy.org/doc/scipy/reference/tutorial/signal.html.\n",
        "\n",
        "Try to use julia arrays where possible"
      ]
    },
    {
      "cell_type": "code",
      "execution_count": null,
      "metadata": {
        "colab": {},
        "colab_type": "code",
        "id": "YZtuVbkNr9m1"
      },
      "outputs": [],
      "source": [
        ""
      ]
    },
    {
      "cell_type": "markdown",
      "execution_count": null,
      "metadata": {
        "colab_type": "text",
        "id": "CqOIPt0ouSyo"
      },
      "outputs": [],
      "source": [
        "# Shell Intermezzo\n",
        "Julia has also good support for shell and filesystem.\n",
        "\n",
        "The first thing you already saw is that in every julia shell you can press `;` to enter shell-mode where you can run shell commands directly."
      ]
    },
    {
      "cell_type": "code",
      "execution_count": null,
      "metadata": {
        "colab": {
          "base_uri": "https://localhost:8080/",
          "height": 34
        },
        "colab_type": "code",
        "id": "0H0vz2GlunSA",
        "outputId": "e89bbd3b-c0a6-4d0d-a615-cf975253052f"
      },
      "outputs": [],
      "source": [
        "; pwd"
      ]
    },
    {
      "cell_type": "markdown",
      "execution_count": null,
      "metadata": {
        "colab_type": "text",
        "id": "L_uSOOWdYWyC"
      },
      "outputs": [],
      "source": [
        "Many standard shell commands have also julia equivalents"
      ]
    },
    {
      "cell_type": "code",
      "execution_count": null,
      "metadata": {
        "colab": {
          "base_uri": "https://localhost:8080/",
          "height": 68
        },
        "colab_type": "code",
        "id": "lKrkOWYdvDGP",
        "outputId": "b4d4c1e3-687a-408c-9a67-53ab556d0aab"
      },
      "outputs": [],
      "source": [
        "@show pwd()\n",
        "@show length(readdir(\"/\"))"
      ]
    },
    {
      "cell_type": "markdown",
      "execution_count": null,
      "metadata": {
        "colab_type": "text",
        "id": "VROkSV-3Ye81"
      },
      "outputs": [],
      "source": [
        "If you look for traversing a directory, use `walkdir`"
      ]
    },
    {
      "cell_type": "code",
      "execution_count": null,
      "metadata": {
        "colab": {
          "base_uri": "https://localhost:8080/",
          "height": 646
        },
        "colab_type": "code",
        "id": "dE-I1YVtvloT",
        "outputId": "0bce9e3a-bc6d-4289-9e40-674e00dd27a5"
      },
      "outputs": [],
      "source": [
        "for (root, dirs, files) in walkdir(\".\")\n",
        "    println(\"Directories in $root\")\n",
        "    for dir in dirs\n",
        "        println(joinpath(root, dir)) # path to directories\n",
        "    end\n",
        "    println(\"Files in $root\")\n",
        "    for file in files\n",
        "        println(joinpath(root, file)) # path to files\n",
        "    end\n",
        "end"
      ]
    },
    {
      "cell_type": "markdown",
      "execution_count": null,
      "metadata": {
        "colab_type": "text",
        "id": "mhFZz0M5wH2o"
      },
      "outputs": [],
      "source": [
        "For more on filesystem see https://docs.julialang.org/en/v1/base/file/ "
      ]
    },
    {
      "cell_type": "markdown",
      "execution_count": null,
      "metadata": {
        "colab_type": "text",
        "id": "DudpThFzwi_1"
      },
      "outputs": [],
      "source": [
        "### Julia's support for subprocesses\n",
        "\n",
        "For executing subprocesses you use backticks `` myprogram = `echo \"hi\"` `` and then `run(myprogram)` or `read(mypogram, String)`, or ``open``, ...\n",
        "\n",
        "Pipe ``a |b |c`` is `pipeline(a, b, c)` and concurrent exuction `&` is `&`.\n",
        "\n",
        "You can find the full documentation at https://docs.julialang.org/en/v1/manual/running-external-programs/"
      ]
    },
    {
      "cell_type": "code",
      "execution_count": null,
      "metadata": {
        "colab": {
          "base_uri": "https://localhost:8080/",
          "height": 476
        },
        "colab_type": "code",
        "id": "r9cRiu5LzAYB",
        "outputId": "9b7df54e-2fab-4d4f-ed23-9132cf7d22c6"
      },
      "outputs": [],
      "source": [
        "# if you use `run` interactively, appending `;` lets you suppress the output of the process object\n",
        "run(`ls /`);"
      ]
    },
    {
      "cell_type": "code",
      "execution_count": null,
      "metadata": {
        "colab": {
          "base_uri": "https://localhost:8080/",
          "height": 34
        },
        "colab_type": "code",
        "id": "sOwoWUB5yusu",
        "outputId": "2151ea58-c99b-48d9-989e-8b98637294f4"
      },
      "outputs": [],
      "source": [
        "read(pipeline(`echo world` & `echo hello`, `sort`), String)"
      ]
    },
    {
      "cell_type": "markdown",
      "execution_count": null,
      "metadata": {
        "colab_type": "text",
        "id": "izX8aLflXjrU"
      },
      "outputs": [],
      "source": [
        "You can also rewire stdout (and stderr) to write to a file or other process instead"
      ]
    },
    {
      "cell_type": "code",
      "execution_count": null,
      "metadata": {
        "colab": {
          "base_uri": "https://localhost:8080/",
          "height": 68
        },
        "colab_type": "code",
        "id": "YBRoE3ZzBvEb",
        "outputId": "b497e06d-536a-465c-97a2-628985abe780"
      },
      "outputs": [],
      "source": [
        "run(pipeline(`ls`, \"tmp.txt\"))  # or long run(pipeline(`ls`, stdout = \"tmp.txt))\n",
        "run(`cat tmp.txt`);"
      ]
    },
    {
      "cell_type": "markdown",
      "execution_count": null,
      "metadata": {
        "colab_type": "text",
        "id": "7h5wPn5ZXq71"
      },
      "outputs": [],
      "source": [
        "To write to a process using `print` and the like, you need to `open` the command as an io process"
      ]
    },
    {
      "cell_type": "code",
      "execution_count": null,
      "metadata": {
        "colab": {
          "base_uri": "https://localhost:8080/",
          "height": 153
        },
        "colab_type": "code",
        "id": "hkXjOPJyGCv8",
        "outputId": "ec9b01b8-f045-4005-afc4-8f21da6cc438"
      },
      "outputs": [],
      "source": [
        "open(pipeline(`cat`, \"file.txt\"), \"w\") do io\n",
        "  println(io, \"line 3\")\n",
        "  write(io, \"line 1\\nline 2\\n\")\n",
        "  write(io, \"line 4\n",
        "line 5\n",
        "\")\n",
        "  write(io, \"\"\"\n",
        "  line 6\n",
        "  line 7\n",
        "  \"\"\")\n",
        "  println(io, \"line last\")\n",
        "end\n",
        "run(`cat file.txt`);"
      ]
    },
    {
      "cell_type": "markdown",
      "execution_count": null,
      "metadata": {
        "colab_type": "text",
        "id": "frnKKEzVRq9n"
      },
      "outputs": [],
      "source": [
        "# Shell Intermezzo - it's your turn\n",
        "\n",
        "Task1 for you: order the above output lines 1 to \"last\" by using the shell's ``sort`` command"
      ]
    },
    {
      "cell_type": "markdown",
      "execution_count": null,
      "metadata": {
        "colab_type": "text",
        "id": "_Kd2fNXgVIMw"
      },
      "outputs": [],
      "source": [
        "Task2. Follow this little awk tutorial https://www.linuxtechi.com/awk-command-tutorial-with-examples/\n",
        "Importantly, their rendering is a bit off. I.e. if you see a line like this\n",
        "```\n",
        "linuxtechi@mail:~$ awk ‘{print;}’ awk_file\n",
        "```\n",
        "Which would give you error messages like\n",
        "```\n",
        "awk: 1: unexpected character 0xe2\n",
        "awk: 1: unexpected character 0xe2\n",
        "```\n",
        "what you really want to execute is\n",
        "```\n",
        "awk '{print;}' awk_file\n",
        "```\n",
        "I.e. use true single quotes instead of the special unicode characters!!"
      ]
    },
    {
      "cell_type": "code",
      "execution_count": null,
      "metadata": {
        "colab": {
          "base_uri": "https://localhost:8080/",
          "height": 34
        },
        "colab_type": "code",
        "id": "uvN-n4MCUnjI",
        "outputId": "b44a9041-4f6a-4f47-90d4-764a3c4964eb"
      },
      "outputs": [],
      "source": [
        "# first part is to somehow get this input data into a file called \"awk_file\"\n",
        "s = \"\"\"\n",
        "Name,Marks,Max Marks\n",
        "Ram,200,1000\n",
        "Shyam,500,1000\n",
        "Ghyansham,1000\n",
        "Abharam,800,1000\n",
        "Hari,600,1000\n",
        "Ram,400,1000\n",
        "\"\"\""
      ]
    },
    {
      "cell_type": "code",
      "execution_count": null,
      "metadata": {
        "colab": {},
        "colab_type": "code",
        "id": "2P_aZEdMU2NB"
      },
      "outputs": [],
      "source": [
        "# the run some of the awk commands"
      ]
    },
    {
      "cell_type": "markdown",
      "execution_count": null,
      "metadata": {
        "colab_type": "text",
        "id": "Wdn89jY5uKU_"
      },
      "outputs": [],
      "source": [
        "# R FFI - RCall.jl\n",
        "The same unbelievable interaction goes for R."
      ]
    },
    {
      "cell_type": "code",
      "execution_count": null,
      "metadata": {
        "colab": {},
        "colab_type": "code",
        "id": "vAFBX_nE1Bx0"
      },
      "outputs": [],
      "source": [
        "using RCall"
      ]
    },
    {
      "cell_type": "code",
      "execution_count": null,
      "metadata": {
        "colab": {
          "base_uri": "https://localhost:8080/",
          "height": 238
        },
        "colab_type": "code",
        "id": "rsLiITn21XJ1",
        "outputId": "99b65999-cba8-48a9-f157-55c9e6c092cf"
      },
      "outputs": [],
      "source": [
        "x = randn(10)\n",
        "R\"t.test($x)\""
      ]
    },
    {
      "cell_type": "code",
      "execution_count": null,
      "metadata": {
        "colab": {
          "base_uri": "https://localhost:8080/",
          "height": 153
        },
        "colab_type": "code",
        "id": "aiDPc5LWAFTP",
        "outputId": "9a6c6cd9-248e-4c4a-9ff5-b76537cbd1c0"
      },
      "outputs": [],
      "source": [
        "a = 1:4\n",
        "b = 1:3\n",
        "rcopy(R\"$a + $b\")"
      ]
    },
    {
      "cell_type": "code",
      "execution_count": null,
      "metadata": {
        "colab": {
          "base_uri": "https://localhost:8080/",
          "height": 306
        },
        "colab_type": "code",
        "id": "I8RnbgZ51aLW",
        "outputId": "6f905562-22da-4c81-e439-56a883dad0ff"
      },
      "outputs": [],
      "source": [
        "R\"optim(0, $(x -> x-cos(x)), method='BFGS')\""
      ]
    },
    {
      "cell_type": "code",
      "execution_count": null,
      "metadata": {
        "colab": {
          "base_uri": "https://localhost:8080/",
          "height": 272
        },
        "colab_type": "code",
        "id": "A2NjHhsY5o-x",
        "outputId": "376f642f-d621-416e-e240-94d838adafe9"
      },
      "outputs": [],
      "source": [
        "R\"library(datasets); data(iris); summary(iris);\""
      ]
    },
    {
      "cell_type": "code",
      "execution_count": null,
      "metadata": {
        "colab": {
          "base_uri": "https://localhost:8080/",
          "height": 300
        },
        "colab_type": "code",
        "id": "DSAHzota5qPj",
        "outputId": "33e50c2d-8a01-40a3-8a4a-f64debf8f969"
      },
      "outputs": [],
      "source": [
        "rcopy(R\"iris\")[1:10, :]"
      ]
    },
    {
      "cell_type": "code",
      "execution_count": null,
      "metadata": {
        "colab": {
          "base_uri": "https://localhost:8080/",
          "height": 411
        },
        "colab_type": "code",
        "id": "CKowGCm6AyW7",
        "outputId": "8c0f47a4-ee00-45f2-e985-0ad30d9494a1"
      },
      "outputs": [],
      "source": [
        "R\"plot(iris)\""
      ]
    },
    {
      "cell_type": "markdown",
      "execution_count": null,
      "metadata": {
        "colab_type": "text",
        "id": "Gt_KMwLj9ibD"
      },
      "outputs": [],
      "source": [
        "For installing R libraries you need to use Julia's subprocesses. For instance, let's install the famous `dplyr` package."
      ]
    },
    {
      "cell_type": "code",
      "execution_count": null,
      "metadata": {
        "colab": {
          "base_uri": "https://localhost:8080/",
          "height": 1000
        },
        "colab_type": "code",
        "id": "MU1UswN95_99",
        "outputId": "be8fc2f1-58a0-4cc5-9d45-53264ef671f1"
      },
      "outputs": [],
      "source": [
        "run(`R -e \"install.packages('dplyr')\"`)  # R\"\"\"install.packages(...)\"\"\" is not working https://github.com/JuliaInterop/RCall.jl/issues/341"
      ]
    },
    {
      "cell_type": "markdown",
      "execution_count": null,
      "metadata": {
        "colab_type": "text",
        "id": "V1z8Coxh-Wmw"
      },
      "outputs": [],
      "source": [
        "# R FFI - it's your turn!\n",
        "\n",
        "Try to follow this R exercise using the default Iris dataset https://rpubs.com/moeransm/intro-iris\n",
        "\n",
        "Important Note: R references like `iris$sepal.width` don't work, because apparently RCall is case sensitive and the real name is `iris.Sepal.Width` as you can see in the `plot(iris)`."
      ]
    },
    {
      "cell_type": "code",
      "execution_count": null,
      "metadata": {
        "colab": {
          "base_uri": "https://localhost:8080/",
          "height": 153
        },
        "colab_type": "code",
        "id": "Ld2hx9oU9Gi4",
        "outputId": "f8d90e65-8543-4c0c-dc7e-ee1758bcfee1"
      },
      "outputs": [],
      "source": [
        "R\"\"\"\n",
        "library(datasets)\n",
        "data(iris)\n",
        "head(iris)\n",
        "\"\"\""
      ]
    },
    {
      "cell_type": "code",
      "execution_count": null,
      "metadata": {
        "colab": {},
        "colab_type": "code",
        "id": "S4IxREmT_Ks8"
      },
      "outputs": [],
      "source": [
        "# go on here"
      ]
    },
    {
      "cell_type": "markdown",
      "execution_count": null,
      "metadata": {
        "colab_type": "text",
        "id": "UfsVqBnZ-2QY"
      },
      "outputs": [],
      "source": [
        "Dplyr comes also with a nice default dataset about starwars. Inspect it a little bit! E.g. by following https://dplyr.tidyverse.org/#usage"
      ]
    },
    {
      "cell_type": "code",
      "execution_count": null,
      "metadata": {
        "colab": {
          "base_uri": "https://localhost:8080/",
          "height": 741
        },
        "colab_type": "code",
        "id": "iKaKlsYw7Qa3",
        "outputId": "2e94da42-e77e-4197-b910-4a70265256e6"
      },
      "outputs": [],
      "source": [
        "rcopy(R\"\"\"starwars\"\"\")"
      ]
    },
    {
      "cell_type": "code",
      "execution_count": null,
      "metadata": {
        "colab": {},
        "colab_type": "code",
        "id": "cOvDf9TH_RG9"
      },
      "outputs": [],
      "source": [
        "# TODO"
      ]
    },
    {
      "cell_type": "markdown",
      "execution_count": null,
      "metadata": {
        "colab_type": "text",
        "id": "LhneJELxb3I7"
      },
      "outputs": [],
      "source": [
        "# Cpp FFI - Cxx.jl\n",
        "\n",
        "We are going to interface opencv via its cpp implementation. Currently there is no maintained julia wrapper for opencv (see e.g. [this discussion](https://discourse.julialang.org/t/how-to-properly-install-the-opencv-package-in-julia/24619)) however as you will see, using the Cpp interface directly is actually impressively simple.\n",
        "\n",
        "First we need to install the Cpp interface, as well as some julia image library to show results."
      ]
    },
    {
      "cell_type": "code",
      "execution_count": null,
      "metadata": {
        "colab": {
          "base_uri": "https://localhost:8080/",
          "height": 527
        },
        "colab_type": "code",
        "id": "hFanGi7dPfxf",
        "outputId": "4fc4340d-0791-4514-ddaf-2d23f21d9a79"
      },
      "outputs": [],
      "source": [
        "using Pkg\n",
        "pkg\"add Cxx; precompile;\"\n",
        "# julia images\n",
        "pkg\"add Images; precompile;\"\n",
        "pkg\"add ImageIO; precompile;\"\n",
        "pkg\"add ImageMagick; precompile;\"\n",
        "pkg\"add ImageDraw; precompile;\""
      ]
    },
    {
      "cell_type": "code",
      "execution_count": null,
      "metadata": {
        "colab": {},
        "colab_type": "code",
        "id": "lAAMjY4ub2c6"
      },
      "outputs": [],
      "source": [
        "using Cxx\n",
        "using Libdl"
      ]
    },
    {
      "cell_type": "markdown",
      "execution_count": null,
      "metadata": {
        "colab_type": "text",
        "id": "u_vzpBwNbJUH"
      },
      "outputs": [],
      "source": [
        "The string-macro `cxx\"...\"` and the macro `@cxx`"
      ]
    },
    {
      "cell_type": "code",
      "execution_count": null,
      "metadata": {
        "colab": {
          "base_uri": "https://localhost:8080/",
          "height": 34
        },
        "colab_type": "code",
        "id": "8cbQqjGB0Otl",
        "outputId": "f229e580-d7ff-4cd5-eb49-c26de42c3db2"
      },
      "outputs": [],
      "source": [
        "# specify imports\n",
        "cxx\"\"\" #include<iostream> \"\"\"  \n",
        "\n",
        "# Declare a cpp function\n",
        "cxx\"\"\"  \n",
        "  void mycppfunction(int x) {   \n",
        "    int y = 5;\n",
        "    int z = x*y + 2;\n",
        "    std::cout << \"The number is \" << z << std::endl;\n",
        "  }\n",
        "\"\"\"\n",
        "# Convert C++ to Julia function\n",
        "julia_function(x) = @cxx mycppfunction(x)\n",
        "\n",
        "julia_function(10)"
      ]
    },
    {
      "cell_type": "markdown",
      "execution_count": null,
      "metadata": {
        "colab_type": "text",
        "id": "7b7fGTT6a2rY"
      },
      "outputs": [],
      "source": [
        "Declaring cpp functions has the disadvantage that you cannot simply rerun the cell above. It will throw an error that a respective cpp function is already defined. Try it out!\n",
        "\n",
        "The solution is to use inline cpp code like we did with Python and R. However unlike R and python, which are interpreted by default, here we have to use a second cpp string-macro `icxx\"...\"`.\n",
        "\n",
        "Remember like\n",
        "- `icxx\"...\"` = interpreted cxx\n",
        "- `cxx\"...\"` = standard cxx definitions"
      ]
    },
    {
      "cell_type": "code",
      "execution_count": null,
      "metadata": {
        "colab": {
          "base_uri": "https://localhost:8080/",
          "height": 34
        },
        "colab_type": "code",
        "id": "IP5pYzJKAwOX",
        "outputId": "7e6786f8-6bca-417d-cb7a-a5f5704e4cd0"
      },
      "outputs": [],
      "source": [
        "function julia_function2(x)\n",
        "  icxx\"\"\"\n",
        "    int y = 5;\n",
        "    int z = $x*y + 2;  // again we can simply interpolate julia values\n",
        "    std::cout << \"The number is \" << z << std::endl;\n",
        "  \"\"\"\n",
        "end\n",
        "\n",
        "julia_function2(10);"
      ]
    },
    {
      "cell_type": "markdown",
      "execution_count": null,
      "metadata": {
        "colab_type": "text",
        "id": "G3mzrAO1ai9a"
      },
      "outputs": [],
      "source": [
        "Dealing with String"
      ]
    },
    {
      "cell_type": "code",
      "execution_count": null,
      "metadata": {
        "colab": {
          "base_uri": "https://localhost:8080/",
          "height": 34
        },
        "colab_type": "code",
        "id": "sHEHUcLxqlkP",
        "outputId": "3f342048-474d-43a1-e3b4-21299312ca98"
      },
      "outputs": [],
      "source": [
        "function cppstring(str)\n",
        "  chararray = pointer(str)\n",
        "  icxx\"\"\"\n",
        "    std::string s = $chararray;\n",
        "    s;\n",
        "  \"\"\"\n",
        "end"
      ]
    },
    {
      "cell_type": "markdown",
      "execution_count": null,
      "metadata": {
        "colab_type": "text",
        "id": "HIT0yrXhfmDa"
      },
      "outputs": [],
      "source": [
        "Importantly, standard interactive printing does not work for most of cxx."
      ]
    },
    {
      "cell_type": "code",
      "execution_count": null,
      "metadata": {
        "colab": {},
        "colab_type": "code",
        "id": "hVlMI3NNfV8-"
      },
      "outputs": [],
      "source": [
        "cppstring(\"hi\"); # try it out by removing the semicolon"
      ]
    },
    {
      "cell_type": "markdown",
      "execution_count": null,
      "metadata": {
        "colab_type": "text",
        "id": "gcMo6Dy1fiYX"
      },
      "outputs": [],
      "source": [
        "But nevertheless we can correctly pass cpp values again to cpp."
      ]
    },
    {
      "cell_type": "code",
      "execution_count": null,
      "metadata": {
        "colab": {
          "base_uri": "https://localhost:8080/",
          "height": 34
        },
        "colab_type": "code",
        "id": "TcQSUE_rfrss",
        "outputId": "3ae4f266-1ce9-462e-e7d8-29be161ee985"
      },
      "outputs": [],
      "source": [
        "icxx\"\"\" std::cout << $(cppstring(\"hello world\")) << std::endl; \"\"\";"
      ]
    },
    {
      "cell_type": "markdown",
      "execution_count": null,
      "metadata": {
        "colab_type": "text",
        "id": "rIEkBAgjagL-"
      },
      "outputs": [],
      "source": [
        "### OpenCV\n",
        "\n",
        "I was in needed of using opencv, because I wanted to have a haarcascade-face-recognizer and in julia I couldn't find any implementation. OpenCV has one, and we will enable it in this section.\n",
        "\n",
        "-------------\n",
        "\n",
        "The next cell adds all opencv cpp libraries and headers to Julia using the standard package `Libdl`.\n",
        "\n",
        "After this we can use opencv directly.\n",
        "\n",
        "*Note that if you want to include this into your own julia package, make sure you run it in the ``__init__`` method so that it is executed only at runtime, as soon as you load your module.*"
      ]
    },
    {
      "cell_type": "code",
      "execution_count": null,
      "metadata": {
        "colab": {},
        "colab_type": "code",
        "id": "kQyrIoMrdU_q"
      },
      "outputs": [],
      "source": [
        "ENV[\"PKG_CONFIG_ALLOW_SYSTEM_LIBS\"] = true  # this is needed, as the lib library is excluded by default otherwise\n",
        "pkg_config_libdir = strip(read(`pkg-config --libs-only-L opencv`, String))\n",
        "cvlibdir = match(r\"^-L([^ ]*)$\", pkg_config_libdir)[1]\n",
        "\n",
        "pkg_config_libs = strip(read(`pkg-config --libs-only-l opencv`, String))\n",
        "extract_match(x) = match(r\"^-l([^ ]*)$\", x)[1]\n",
        "cvlibs = extract_match.(split(pkg_config_libs))\n",
        "for cvlib in cvlibs\n",
        "    Libdl.dlopen(joinpath(cvlibdir,\"lib$cvlib.so\"), Libdl.RTLD_GLOBAL)\n",
        "end\n",
        "\n",
        "pkg_config_cflags = strip(read(`pkg-config --cflags opencv`, String))\n",
        "cvheaderdir = dirname(match(r\"^-I([^ ]*)$\", pkg_config_cflags)[1])  # path which should end on \"/include\"\n",
        "\n",
        "addHeaderDir(cvheaderdir, kind = C_System)\n",
        "addHeaderDir(joinpath(cvheaderdir,\"opencv\"), kind = C_System )\n",
        "addHeaderDir(joinpath(cvheaderdir, \"opencv2\"), kind = C_System )\n",
        "addHeaderDir(joinpath(cvheaderdir, \"opencv2\", \"core\"), kind = C_System )"
      ]
    },
    {
      "cell_type": "code",
      "execution_count": null,
      "metadata": {
        "colab": {
          "base_uri": "https://localhost:8080/",
          "height": 34
        },
        "colab_type": "code",
        "id": "XdTtpbmcdGg8",
        "outputId": "e131d97c-1234-4c2f-a676-a502c0dfa924"
      },
      "outputs": [],
      "source": [
        "# general opencv setup\n",
        "cxx\"\"\"\n",
        "#include <stdio.h>\n",
        "#include <iostream>\n",
        "#include <opencv2/core.hpp>\n",
        "#include <opencv2/core/core.hpp>\n",
        "#include \"opencv2/imgproc.hpp\"\n",
        "#include \"opencv2/objdetect.hpp\"\n",
        "#include <opencv2/highgui/highgui.hpp>\n",
        "\n",
        "using namespace std;\n",
        "using namespace cv;\n",
        "\"\"\""
      ]
    },
    {
      "cell_type": "markdown",
      "execution_count": null,
      "metadata": {
        "colab_type": "text",
        "id": "F5_qpntkeBxV"
      },
      "outputs": [],
      "source": [
        "To start here a construction and printing of an opencv Matrix"
      ]
    },
    {
      "cell_type": "code",
      "execution_count": null,
      "metadata": {
        "colab": {
          "base_uri": "https://localhost:8080/",
          "height": 340
        },
        "colab_type": "code",
        "id": "zLqK6XP5l1T7",
        "outputId": "ad621a73-4ea5-44fc-c4a2-768465bcef10"
      },
      "outputs": [],
      "source": [
        "icxx\"\"\"\n",
        "const int mySizes[3]={3,5,5};\n",
        "\n",
        "cv::Mat f = Mat::zeros(3,mySizes,CV_64F);\n",
        "f.at<double>(1,2,3) = 17;\n",
        "\n",
        "for ( int i=0;i<mySizes[0];i++) {\n",
        "    for ( int j=0;j<mySizes[1];j++) {\n",
        "        for ( int k=0;k<mySizes[2];k++) {\n",
        "            cerr << f.at<double>(i,j,k) << \" \";\n",
        "        }\n",
        "        cerr << endl;\n",
        "    }\n",
        "    cerr << endl;\n",
        "}\n",
        "cerr << endl;\n",
        "\"\"\";"
      ]
    },
    {
      "cell_type": "markdown",
      "execution_count": null,
      "metadata": {
        "colab_type": "text",
        "id": "TiKuRnVEeWS1"
      },
      "outputs": [],
      "source": [
        "Let's jump to some image processing. Download an example face and load it into opencv."
      ]
    },
    {
      "cell_type": "code",
      "execution_count": null,
      "metadata": {
        "colab": {},
        "colab_type": "code",
        "id": "mg9HniAWenwD"
      },
      "outputs": [],
      "source": [
        "; wget -q -O face.png 'https://images.unsplash.com/photo-1554151228-14d9def656e4?ixlib=rb-1.2.1&ixid=eyJhcHBfaWQiOjEyMDd9&auto=format&fit=crop&w=3633&q=80'"
      ]
    },
    {
      "cell_type": "code",
      "execution_count": null,
      "metadata": {
        "colab": {},
        "colab_type": "code",
        "id": "d2k46vnUcfny"
      },
      "outputs": [],
      "source": [
        "function cv_grayimage(path)\n",
        "  cpath = cppstring(path)\n",
        "  icxx\"\"\"\n",
        "    Mat image = imread($cpath, CV_LOAD_IMAGE_GRAYSCALE);\n",
        "    image;\n",
        "  \"\"\"\n",
        "end\n",
        "cv_grayimage(\"face.png\");"
      ]
    },
    {
      "cell_type": "markdown",
      "execution_count": null,
      "metadata": {
        "colab_type": "text",
        "id": "sXLqjJ7bgDfl"
      },
      "outputs": [],
      "source": [
        "In order to inspect whether it worked, we construct a conversion method to get from the opencv matrix to julia."
      ]
    },
    {
      "cell_type": "code",
      "execution_count": null,
      "metadata": {
        "colab": {
          "base_uri": "https://localhost:8080/",
          "height": 34
        },
        "colab_type": "code",
        "id": "LbLBR1eoLqx1",
        "outputId": "84a109c4-e5fb-4233-8442-5f9d23776d07"
      },
      "outputs": [],
      "source": [
        "using Images: Gray, N0f8\n",
        "\n",
        "function opencv_to_array2D_superfast(img_opencv)\n",
        "  if !icxx\"$img_opencv.isContinuous();\"\n",
        "     # cloning the opencv image makes it continuous\n",
        "     img_opencv = icxx\"$img_opencv.clone();\"\n",
        "  end\n",
        "\n",
        "  # we assume 2D\n",
        "  raw_UInt8 = Base.unsafe_wrap(Array, @cxx(img_opencv->data), (@cxx(img_opencv->cols), @cxx(img_opencv->rows)))\n",
        "  Gray.(reinterpret(N0f8, raw_UInt8'))  # mind the transpose\n",
        "end"
      ]
    },
    {
      "cell_type": "code",
      "execution_count": null,
      "metadata": {
        "colab": {
          "base_uri": "https://localhost:8080/",
          "height": 701
        },
        "colab_type": "code",
        "id": "8_0-WMPyLBQw",
        "outputId": "e679a46e-645b-4ecc-803e-0376c6915b67"
      },
      "outputs": [],
      "source": [
        "opencv_to_array2D_superfast(cv_grayimage(\"face.png\"))"
      ]
    },
    {
      "cell_type": "markdown",
      "execution_count": null,
      "metadata": {
        "colab_type": "text",
        "id": "utS8STAwhAuW"
      },
      "outputs": [],
      "source": [
        "Awesome! We used our first bit of opencv cpp.\n",
        "\n",
        "On top we now do an histogram equalization for stabilizing light conditions. This is good to do in general, not only for haarcascade face recognition."
      ]
    },
    {
      "cell_type": "code",
      "execution_count": null,
      "metadata": {
        "colab": {
          "base_uri": "https://localhost:8080/",
          "height": 701
        },
        "colab_type": "code",
        "id": "uBtQ4l_3hQD9",
        "outputId": "ba5aa66c-6a79-4291-d749-904e64f8683f"
      },
      "outputs": [],
      "source": [
        "function cv_equalize_inplace(frame)\n",
        "  icxx\"\"\"\n",
        "    Mat frame = $frame;\n",
        "    equalizeHist(frame, frame);\n",
        "    frame;\n",
        "  \"\"\"\n",
        "end\n",
        "image = cv_equalize_inplace(cv_grayimage(\"face.png\"))\n",
        "opencv_to_array2D_superfast(image)"
      ]
    },
    {
      "cell_type": "markdown",
      "execution_count": null,
      "metadata": {
        "colab_type": "text",
        "id": "M4Xdj4X0h0os"
      },
      "outputs": [],
      "source": [
        "The method to load a haarcascade"
      ]
    },
    {
      "cell_type": "code",
      "execution_count": null,
      "metadata": {
        "colab": {
          "base_uri": "https://localhost:8080/",
          "height": 34
        },
        "colab_type": "code",
        "id": "Gy_K87lWLH_j",
        "outputId": "6456cb0a-7f18-4fb2-a4f9-c47096cc64c3"
      },
      "outputs": [],
      "source": [
        "function cv_load_cascade(cascade_path)\n",
        "  icxx\"\"\"\n",
        "    CascadeClassifier cascade;\n",
        "    cascade.load($(cppstring(cascade_path)));\n",
        "    return cascade;\n",
        "  \"\"\"\n",
        "end"
      ]
    },
    {
      "cell_type": "code",
      "execution_count": null,
      "metadata": {
        "colab": {},
        "colab_type": "code",
        "id": "wIubGkgiZWFI"
      },
      "outputs": [],
      "source": [
        "; wget -q https://raw.githubusercontent.com/opencv/opencv/master/data/haarcascades/haarcascade_frontalface_alt.xml"
      ]
    },
    {
      "cell_type": "code",
      "execution_count": null,
      "metadata": {
        "colab": {},
        "colab_type": "code",
        "id": "vkNaQRpmZhOm"
      },
      "outputs": [],
      "source": [
        "cascade_face = cv_load_cascade(\"$(@__DIR__)/haarcascade_frontalface_alt.xml\");"
      ]
    },
    {
      "cell_type": "markdown",
      "execution_count": null,
      "metadata": {
        "colab_type": "text",
        "id": "LmndkXMdiD6V"
      },
      "outputs": [],
      "source": [
        "Method to apply a cascade to a image, and collect the resulst as julia rectangles."
      ]
    },
    {
      "cell_type": "code",
      "execution_count": null,
      "metadata": {
        "colab": {
          "base_uri": "https://localhost:8080/",
          "height": 34
        },
        "colab_type": "code",
        "id": "EMfhl_vwZl93",
        "outputId": "a171641e-fde8-45ac-fe73-fc0f537b2db5"
      },
      "outputs": [],
      "source": [
        "struct Rect\n",
        "  x::Int\n",
        "  y::Int\n",
        "  width::Int\n",
        "  height::Int\n",
        "end\n",
        "Rect(cv_rect) = Rect(\n",
        "  @cxx(cv_rect->x) + 1,  # julia starts at 1, opencv at 0\n",
        "  @cxx(cv_rect->y) + 1,  # julia starts at 1, opencv at 0\n",
        "  @cxx(cv_rect->width),\n",
        "  @cxx(cv_rect->height))\n",
        "\n",
        "function cv_detect(cascade, frame_gray, min_scale = 30)\n",
        "  # faces are always symmetric in recognition\n",
        "  rects = icxx\"\"\"\n",
        "  std::vector<Rect> rects;\n",
        "  $cascade.detectMultiScale($frame_gray, rects, 1.1, 2, 0|cv::CASCADE_SCALE_IMAGE, Size($min_scale, $min_scale));\n",
        "  rects;\"\"\"\n",
        "  [Rect(rect) for rect in rects]\n",
        "end"
      ]
    },
    {
      "cell_type": "code",
      "execution_count": null,
      "metadata": {
        "colab": {
          "base_uri": "https://localhost:8080/",
          "height": 51
        },
        "colab_type": "code",
        "id": "YmFNwPfKaEYe",
        "outputId": "708cd1b7-7db6-4060-c024-e3bdd5496865"
      },
      "outputs": [],
      "source": [
        "face_rect = cv_detect(cascade_face, image)"
      ]
    },
    {
      "cell_type": "markdown",
      "execution_count": null,
      "metadata": {
        "colab_type": "text",
        "id": "1aYC3x3kiNsw"
      },
      "outputs": [],
      "source": [
        "Finally again some plotting helpers"
      ]
    },
    {
      "cell_type": "code",
      "execution_count": null,
      "metadata": {
        "colab": {
          "base_uri": "https://localhost:8080/",
          "height": 34
        },
        "colab_type": "code",
        "id": "XB8II8gma3XV",
        "outputId": "add4d9cc-d32a-4e22-cacd-8ad991556e26"
      },
      "outputs": [],
      "source": [
        "using ImageDraw\n",
        "function draw_rect(img, rect, color)\n",
        "  x, y, width, height = rect.x, rect.y, rect.width - 1, rect.height - 1\n",
        "  points = [Point(x, y), Point(x + width, y), Point(x + width, y + height), Point(x, y + height)]\n",
        "  draw!(img, Polygon(points), color)\n",
        "end\n",
        "function draw_rects(img, rects, color)\n",
        "  foreach(r -> draw_rect(img, r, color), rects)\n",
        "  img\n",
        "end"
      ]
    },
    {
      "cell_type": "code",
      "execution_count": null,
      "metadata": {
        "colab": {
          "base_uri": "https://localhost:8080/",
          "height": 701
        },
        "colab_type": "code",
        "id": "-pI68ystkt0c",
        "outputId": "4e22aa95-f6c2-4349-9dc5-5a0ef17f6252"
      },
      "outputs": [],
      "source": [
        "img = opencv_to_array2D_superfast(image)\n",
        "draw_rects(img, face_rect, Gray{N0f8}(1))"
      ]
    },
    {
      "cell_type": "markdown",
      "execution_count": null,
      "metadata": {
        "colab_type": "text",
        "id": "0bTJMkbVY54m"
      },
      "outputs": [],
      "source": [
        "# Cpp FFI - it is your turn!\n",
        "\n",
        "Task 1. Looking at the folder https://raw.githubusercontent.com/opencv/opencv/master/data/haarcascades/ you will see that opencv comes with a couple of different haarcascades, not only for face recognition.\n",
        "\n",
        "Download some of them and try them out!"
      ]
    },
    {
      "cell_type": "code",
      "execution_count": null,
      "metadata": {
        "colab": {},
        "colab_type": "code",
        "id": "MTNqd5N_ZJHd"
      },
      "outputs": [],
      "source": [
        "# TODO"
      ]
    },
    {
      "cell_type": "markdown",
      "execution_count": null,
      "metadata": {
        "colab_type": "text",
        "id": "JIma5fk3ZSVk"
      },
      "outputs": [],
      "source": [
        "Task 2. Download another image with several faces on it and try the same there"
      ]
    },
    {
      "cell_type": "code",
      "execution_count": null,
      "metadata": {
        "colab": {},
        "colab_type": "code",
        "id": "s15Sm06UZue4"
      },
      "outputs": [],
      "source": [
        "# TODO"
      ]
    },
    {
      "cell_type": "markdown",
      "execution_count": null,
      "metadata": {
        "colab_type": "text",
        "id": "dF2UrcPVi6L0"
      },
      "outputs": [],
      "source": [
        "# The End\n",
        "\n",
        "Thank you very much for participating in this Julia As A Glue Language hands-on!\n",
        "I hope you learned something and can appreciate like me how impressively easy these three Foreign Function Interfaces are used.\n",
        "\n",
        "Hope to see you again at the next Julia User Group Munich Meetup!\n",
        "\n",
        "<center>\n",
        "<font size=\"+2\">\n",
        "SAVE THE DATE: <b>Wednesday 10.06.</b>\n",
        "</font>\n",
        "</center>\n",
        "\n",
        "Please, take a minute and leave your feedback on Meetups, how you liked the meetup.\n",
        "\n",
        "For any suggestions you are always welcome to contact me at s.sahm@reply.de"
      ]
    }
  ]
}