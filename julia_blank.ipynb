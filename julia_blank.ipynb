{
  "nbformat": 4,
  "nbformat_minor": 0,
  "metadata": {
    "accelerator": "GPU",
    "colab": {
      "name": "julia_on_collab.ipynb",
      "provenance": []
    },
    "kernelspec": {
      "display_name": "Julia 1.3",
      "language": "julia",
      "name": "julia-1.3"
    },
    "language_info": {
      "file_extension": ".jl",
      "mimetype": "application/julia",
      "name": "julia",
      "version": "1.3"
    }
  },
  "cells": [
    {
      "cell_type": "code",
      "execution_count": null,
      "metadata": {
        "colab": {},
        "colab_type": "code",
        "id": "PMGwZ7aFJL8Y"
      },
      "outputs": [],
      "source": [
        "# Installation cell\n",
        "%%shell\n",
        "if ! command -v julia 3>&1 > /dev/null\n",
        "then\n",
        "    wget 'https://julialang-s3.julialang.org/bin/linux/x64/1.3/julia-1.3.1-linux-x86_64.tar.gz' \\\n",
        "        -O /tmp/julia.tar.gz\n",
        "    tar -x -f /tmp/julia.tar.gz -C /usr/local --strip-components 1\n",
        "    rm /tmp/julia.tar.gz\n",
        "fi\n",
        "julia -e 'using Pkg; pkg\"add IJulia; precompile;\"'\n",
        "echo 'Done'"
      ]
    },
    {
      "cell_type": "markdown",
      "execution_count": null,
      "metadata": {
        "colab_type": "text",
        "id": "XdMpcQduyaQc"
      },
      "outputs": [],
      "source": [
        "After you run the first cell (the the cell directly above this text), go to Colab's Edit menu and select Notebook settings from the drop down. Select *Julia 1.3* as the runtime and *GPU* as the hadware accelerator.\n",
        "\n",
        "<br/>You should see somthing like this:\n",
        "\n",
        "> ![alt text](https://drive.google.com/uc?id=1AeglaLmWI-zRXPCErofIZ4BH9zvPCwNy)\n",
        "<br/>Click on SAVE\n",
        "<br/>**We are ready to get going**\n",
        "\n",
        "\n",
        "\n"
      ]
    },
    {
      "cell_type": "code",
      "execution_count": null,
      "metadata": {
        "colab": {},
        "colab_type": "code",
        "id": "iIxu4TjlJnBG"
      },
      "outputs": [],
      "source": [
        "#Julia 1.3 Environment\n",
        "using Pkg\n",
        "pkg\"add BenchmarkTools; precompile;\""
      ]
    },
    {
      "cell_type": "code",
      "execution_count": null,
      "metadata": {
        "colab": {},
        "colab_type": "code",
        "id": "IP5pYzJKAwOX"
      },
      "outputs": [],
      "source": [
        ""
      ]
    }
  ]
}